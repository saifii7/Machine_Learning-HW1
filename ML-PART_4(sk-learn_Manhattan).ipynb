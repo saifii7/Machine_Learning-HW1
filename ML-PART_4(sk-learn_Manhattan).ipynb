{
 "cells": [
  {
   "cell_type": "code",
   "execution_count": 1,
   "id": "3c04cc1f",
   "metadata": {},
   "outputs": [],
   "source": [
    "import pandas as pd\n",
    "import numpy as np\n",
    "from sklearn.neighbors import KNeighborsClassifier \n",
    "from sklearn.metrics import accuracy_score\n",
    "import warnings\n",
    "warnings.filterwarnings('ignore')\n",
    "from sklearn.preprocessing import MinMaxScaler, OneHotEncoder\n",
    "from sklearn.compose import ColumnTransformer\n",
    "from sklearn.preprocessing import OneHotEncoder\n",
    "from collections import Counter"
   ]
  },
  {
   "cell_type": "code",
   "execution_count": 2,
   "id": "528844c6",
   "metadata": {},
   "outputs": [],
   "source": [
    "train_data = pd.read_csv(\"C:/3rd term/ML/HW-1/hw1-data/income.train.txt.5k\",header = None, \n",
    "                         names=['age', 'sector', 'education', 'marital-status', 'occupation', 'race', 'sex', \n",
    "                                'hours-per-week', 'country-of-origin', 'target'])"
   ]
  },
  {
   "cell_type": "code",
   "execution_count": 3,
   "id": "1626e7e2",
   "metadata": {},
   "outputs": [],
   "source": [
    "dev_set = pd.read_csv(\"C:/3rd term/ML/HW-1/hw1-data/income.dev.txt\",header = None, \n",
    "                      names=['age', 'sector', 'education', 'marital-status', 'occupation', 'race', 'sex', \n",
    "                             'hours-per-week', 'country-of-origin', 'target'])"
   ]
  },
  {
   "cell_type": "code",
   "execution_count": 4,
   "id": "eeee2f88",
   "metadata": {},
   "outputs": [],
   "source": [
    "# Train_Data\n",
    "labels = train_data['target']\n",
    "\n",
    "\n",
    "# Dev_set\n",
    "d = dev_set['target']"
   ]
  },
  {
   "cell_type": "code",
   "execution_count": 5,
   "id": "d2ea13a7",
   "metadata": {},
   "outputs": [],
   "source": [
    "train_features = train_data.drop(['target'], axis = 1)"
   ]
  },
  {
   "cell_type": "code",
   "execution_count": 6,
   "id": "25c5c25e",
   "metadata": {},
   "outputs": [],
   "source": [
    "num_processor = MinMaxScaler(feature_range=(0, 2))\n",
    "cat_processor = OneHotEncoder(sparse=False, handle_unknown='ignore')"
   ]
  },
  {
   "cell_type": "code",
   "execution_count": 7,
   "id": "5e6e9c1c",
   "metadata": {},
   "outputs": [],
   "source": [
    "preprocessor = ColumnTransformer([\n",
    "('num', num_processor, ['age','hours-per-week']),\n",
    "('cat', cat_processor, ['sector','education', 'marital-status', 'occupation', 'race', 'sex','country-of-origin'])\n",
    "])\n",
    "preprocessor.fit(train_data)\n",
    "train_processed_data = preprocessor.transform(train_data)\n",
    "dev_processed_data = preprocessor.transform(dev_set)"
   ]
  },
  {
   "cell_type": "code",
   "execution_count": 8,
   "id": "0a0b4017",
   "metadata": {},
   "outputs": [],
   "source": [
    "# Train_data\n",
    "X_train= train_processed_data\n",
    "y_train= labels\n",
    "\n",
    "# Dev_data\n",
    "X_dev =  dev_processed_data\n",
    "y_dev = d"
   ]
  },
  {
   "cell_type": "code",
   "execution_count": 9,
   "id": "6bebf313",
   "metadata": {},
   "outputs": [],
   "source": [
    "# Choosing the first person in the dev dataset\n",
    "query_person_features = X_dev[0].reshape(1, -1)"
   ]
  },
  {
   "cell_type": "code",
   "execution_count": 10,
   "id": "68266b75",
   "metadata": {},
   "outputs": [
    {
     "name": "stdout",
     "output_type": "stream",
     "text": [
      "dev error: 19.90\n",
      "train error: 11.70\n",
      "query person: [[0.76712329 0.89795918 1.         0.         0.         0.\n",
      "  0.         0.         0.         0.         0.         0.\n",
      "  0.         0.         0.         0.         0.         0.\n",
      "  1.         0.         0.         0.         0.         0.\n",
      "  0.         0.         0.         1.         0.         0.\n",
      "  0.         0.         1.         0.         0.         0.\n",
      "  0.         0.         0.         0.         0.         0.\n",
      "  0.         0.         0.         0.         0.         0.\n",
      "  0.         0.         1.         0.         1.         0.\n",
      "  0.         0.         0.         0.         0.         0.\n",
      "  0.         0.         0.         0.         0.         0.\n",
      "  0.         0.         0.         0.         0.         0.\n",
      "  0.         0.         0.         0.         0.         0.\n",
      "  0.         0.         0.         0.         0.         0.\n",
      "  0.         0.         0.         0.         0.         1.\n",
      "  0.         0.        ]]\n",
      "Indices of the top-3 closest individuals in the training set:\n",
      "k = 3\ttop3_indices :[4872 4787 1084]\ttop3_distances :[0.38999161 2.05479452 2.10204082]\ttop3_data points :4872      >50K\n",
      "4787      >50K\n",
      "1084     <=50K\n",
      "Name: target, dtype: object\t"
     ]
    }
   ],
   "source": [
    "# MANHATTAN K-NN ALGORITHM\n",
    "\n",
    "k  = 3\n",
    "# Creating and fitting the k-NN classifier\n",
    "knn = KNeighborsClassifier(n_neighbors=k, metric = 'manhattan')\n",
    "knn.fit(X_train,y_train)\n",
    "    \n",
    "# Making prediction:   \n",
    "y_train_pred = knn.predict(X_train)\n",
    "y_dev_pred = knn.predict(X_dev)\n",
    "    \n",
    "train_error_rate = 1 - accuracy_score(y_train, y_train_pred)\n",
    "dev_error_rate =  1 - accuracy_score(y_dev, y_dev_pred)\n",
    "    \n",
    "# Finding the three closest individuals from the training set to the query person\n",
    "distances, indices = knn.kneighbors(query_person_features)\n",
    "   \n",
    "# Extracting the indices and distance of the closest individuals\n",
    "top3_indices = indices[0]\n",
    "top3_distances = distances[0]\n",
    "\n",
    "# Extracting the features of the top-3 closest individuals from the training dataset\n",
    "top3_individuals_features = y_train[top3_indices]\n",
    "    \n",
    "# Print the indices of the closest individuals in the training set\n",
    "print(f\"dev error: {   dev_error_rate * 100:.2f}\")\n",
    "print(f\"train error: {   train_error_rate * 100:.2f}\")\n",
    "    \n",
    "print(f\"query person: {query_person_features}\")\n",
    "print(\"Indices of the top-3 closest individuals in the training set:\")\n",
    "print(f\"k = {k}\",end='\\t')\n",
    "print(f\"top3_indices :{top3_indices}\", end='\\t')\n",
    "print(f\"top3_distances :{ top3_distances}\", end='\\t')\n",
    "print(f\"top3_data points :{ top3_individuals_features}\", end='\\t') "
   ]
  },
  {
   "cell_type": "code",
   "execution_count": null,
   "id": "f107c202",
   "metadata": {},
   "outputs": [],
   "source": []
  }
 ],
 "metadata": {
  "kernelspec": {
   "display_name": "Python 3 (ipykernel)",
   "language": "python",
   "name": "python3"
  },
  "language_info": {
   "codemirror_mode": {
    "name": "ipython",
    "version": 3
   },
   "file_extension": ".py",
   "mimetype": "text/x-python",
   "name": "python",
   "nbconvert_exporter": "python",
   "pygments_lexer": "ipython3",
   "version": "3.9.13"
  }
 },
 "nbformat": 4,
 "nbformat_minor": 5
}
